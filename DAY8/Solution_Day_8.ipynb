{
  "nbformat": 4,
  "nbformat_minor": 0,
  "metadata": {
    "colab": {
      "name": "Solution_Day_8.ipynb",
      "provenance": []
    },
    "kernelspec": {
      "name": "python3",
      "display_name": "Python 3"
    }
  },
  "cells": [
    {
      "cell_type": "code",
      "metadata": {
        "id": "AFN0kqH4CniL",
        "colab_type": "code",
        "colab": {}
      },
      "source": [
        "# Decorator for the Function -- \n",
        "\n",
        "def inpfunct(args):\n",
        "    \n",
        "    def funn():\n",
        "        num = int(input(\"Enter any Number - \"))\n",
        "        args(num)\n",
        "    return funn"
      ],
      "execution_count": 0,
      "outputs": []
    },
    {
      "cell_type": "code",
      "metadata": {
        "id": "Ki03A0pCC3Zp",
        "colab_type": "code",
        "colab": {}
      },
      "source": [
        "@inpfunct\n",
        "def fibonacci(n):\n",
        "    n1 = 0\n",
        "    n2 = 1\n",
        "    print('1')\n",
        "    for i in range(0,n):\n",
        "        n3 = n2 +n1\n",
        "        n1 = n2\n",
        "        n2 = n3\n",
        "        print(n3)"
      ],
      "execution_count": 0,
      "outputs": []
    },
    {
      "cell_type": "code",
      "metadata": {
        "id": "TW2Q5aYdC8ie",
        "colab_type": "code",
        "colab": {
          "base_uri": "https://localhost:8080/",
          "height": 134
        },
        "outputId": "2ee96177-2e4e-4bca-c33e-e2c03b2875df"
      },
      "source": [
        "fibonacci()"
      ],
      "execution_count": 10,
      "outputs": [
        {
          "output_type": "stream",
          "text": [
            "Enter any Number - 5\n",
            "1\n",
            "1\n",
            "2\n",
            "3\n",
            "5\n",
            "8\n"
          ],
          "name": "stdout"
        }
      ]
    },
    {
      "cell_type": "code",
      "metadata": {
        "id": "T4W3yle-C9z2",
        "colab_type": "code",
        "colab": {}
      },
      "source": [
        ""
      ],
      "execution_count": 0,
      "outputs": []
    }
  ]
}