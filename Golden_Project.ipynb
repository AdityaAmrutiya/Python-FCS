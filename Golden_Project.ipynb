{
  "nbformat": 4,
  "nbformat_minor": 0,
  "metadata": {
    "colab": {
      "name": "Golden_Project.ipynb",
      "provenance": []
    },
    "kernelspec": {
      "name": "python3",
      "display_name": "Python 3"
    }
  },
  "cells": [
    {
      "cell_type": "markdown",
      "metadata": {
        "id": "Vo2awOJzF_mv",
        "colab_type": "text"
      },
      "source": [
        "# FCS Python - Golden Project\n",
        "\n",
        "> Name : Aditya Amrutiya\n",
        "\n",
        "> Email : amrutiyaaditya@gmail.com "
      ]
    },
    {
      "cell_type": "markdown",
      "metadata": {
        "id": "dZI4gN8HF0KC",
        "colab_type": "text"
      },
      "source": [
        "Panda has recently learned about ASCII values.He is very fond of experimenting. With his knowledge of ASCII values and character he has developed a special word and named it Panda's Magical word.\n",
        "\n",
        "A word which consist of alphabets whose ASCII values is a prime number is an Dhananjay's Magical word. An alphabet is Panda's Magical alphabet if its ASCII value is prime.\n",
        "\n",
        "Dhananjay's nature is to boast about the things he know or have learnt about. So just to defame his friends he gives few string to his friends and ask them to convert it to Panda's Magical word. None of his friends would like to get insulted. Help them to convert the given strings to Dhananjay's Magical Word.\n",
        "\n",
        "Rules for converting:\n",
        "\n",
        "1.Each character should be replaced by the nearest Panda's Magical alphabet.\n",
        "\n",
        "2.If the character is equidistant with 2 Magical alphabets. The one with lower ASCII value will be considered as its replacement.\n",
        "\n",
        "Input format:\n",
        "\n",
        "First line of input contains an integer T number of test cases. Each test case contains an integer N (denoting the length of the string) and a string S.\n",
        "\n",
        "Output Format:\n",
        "\n",
        "For each test case, print Panda's Magical Word in a new line.\n"
      ]
    },
    {
      "cell_type": "code",
      "metadata": {
        "id": "CKqwS6di8Axo",
        "colab_type": "code",
        "colab": {
          "base_uri": "https://localhost:8080/",
          "height": 269
        },
        "outputId": "c95e55e5-a6fa-4109-9fed-38271e731e66"
      },
      "source": [
        "# Python3 program to Split string into characters \n",
        "def split(word): \n",
        "    return [char for char in word]\n",
        "\n",
        "# Python3 program for conversion of characters to their ASCII values\n",
        "def ascii(arr):\n",
        "    return [ord(x) for x in  arr]  \n",
        "\n",
        "# Python3 program to find nearest prime in (65 - 122)\n",
        "def near_prime(num):\n",
        "    prime = [61, 67, 71, 73, 79, 83, 89, 97, 101, 103, 107, 109, 113, 127]\n",
        "    diff = []\n",
        "    min_num = 10000\n",
        "    min_diff = 10000\n",
        "    for i in range(len(prime)):\n",
        "      dist = abs(prime[i]-num)\n",
        "      if dist < min_diff:\n",
        "        min_diff = dist\n",
        "        min_num = prime[i]\n",
        "    return min_num\n",
        "\n",
        "# Python3 program for conversion of ASCII values to charcters\n",
        "def char_arr(arr):\n",
        "    return [chr(x) for x in  arr]  \n",
        "\n",
        "# Python program to convert a list of character \n",
        "def convert(s): \n",
        "    new = \"\" \n",
        "    for x in s: \n",
        "      new += x \n",
        "    return new \n",
        "\t\n",
        "\n",
        "test = int(input(\"Test Case -\"))\n",
        "for l in range(test):\n",
        "  length = int(input(\"Length -\"))\n",
        "  word_input = input(\"Word -\")\n",
        "  char_input = split(word_input)\n",
        "  ascii_input = ascii(char_input)\n",
        "  ascii_output = [near_prime(x) for x in ascii_input]\n",
        "  char_output = char_arr(ascii_output)\n",
        "  word_output = convert(char_output)\n",
        "  print(\" \")\n",
        "  print(\"INPUT -\" , word_input)\n",
        "  print(\" \")\n",
        "  print(\"OUTPUT -\" ,word_output)\n",
        "  print(\" \")\n",
        "\n"
      ],
      "execution_count": 1,
      "outputs": [
        {
          "output_type": "stream",
          "text": [
            "Test Case -2\n",
            "Length -3\n",
            "Word -AcV\n",
            " \n",
            "INPUT - AcV\n",
            " \n",
            "OUTPUT - CaS\n",
            " \n",
            "Length -4\n",
            "Word -abCF\n",
            " \n",
            "INPUT - abCF\n",
            " \n",
            "OUTPUT - aaCG\n",
            " \n"
          ],
          "name": "stdout"
        }
      ]
    }
  ]
}