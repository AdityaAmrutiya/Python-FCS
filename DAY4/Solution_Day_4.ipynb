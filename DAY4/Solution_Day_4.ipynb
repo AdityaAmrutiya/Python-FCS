{
 "cells": [
  {
   "cell_type": "markdown",
   "metadata": {},
   "source": [
    "Q1. Finding sublist [1,1,5] in user submitted list"
   ]
  },
  {
   "cell_type": "code",
   "execution_count": 4,
   "metadata": {},
   "outputs": [
    {
     "name": "stdout",
     "output_type": "stream",
     "text": [
      "Enter the length of list 5\n",
      "Enter the number 1\n",
      "Enter the number 2\n",
      "Enter the number 1\n",
      "Enter the number 4\n",
      "Enter the number 5\n",
      "It's a match\n"
     ]
    }
   ],
   "source": [
    "length = int(input(\"Enter the length of list \"))\n",
    "test=[1,1,5]\n",
    "lst=[]\n",
    "for i in range (0,length):\n",
    "    inp = int(input(\"Enter the number \"))\n",
    "    lst.append(inp)\n",
    "    \n",
    "j=0\n",
    "\n",
    "for i in range (0,length):\n",
    "    if(lst[i] == test[j]):\n",
    "        j += 1\n",
    "        i += 1\n",
    "    else:\n",
    "        i += 1\n",
    "\n",
    "if(j == 3):\n",
    "    print (\"It's a match\")\n",
    "else:\n",
    "    print (\"It's Gone\")"
   ]
  },
  {
   "cell_type": "markdown",
   "metadata": {},
   "source": [
    "Q2 : Make a calculator"
   ]
  },
  {
   "cell_type": "code",
   "execution_count": 2,
   "metadata": {},
   "outputs": [
    {
     "name": "stdout",
     "output_type": "stream",
     "text": [
      "Enter 1st number 10\n",
      "Enter 2nd number 5\n",
      "1=add , 2=sub , 3=mul , 4=div || your choice - 3\n",
      "The answer is  50\n"
     ]
    }
   ],
   "source": [
    "def add(a,b):\n",
    "    return a+b\n",
    "def sub(a,b):\n",
    "    return abs(a-b)\n",
    "def mul(a,b):\n",
    "    return a*b\n",
    "def div(a,b):\n",
    "    return a/b\n",
    "\n",
    "num1 = int(input(\"Enter 1st number \"))\n",
    "num2 = int(input(\"Enter 2nd number \"))\n",
    "choice = int(input(\"1=add , 2=sub , 3=mul , 4=div || your choice - \"))\n",
    "\n",
    "ans_available=0\n",
    "\n",
    "if(choice==1):\n",
    "    ans = add(num1,num2)\n",
    "    ans_available=1\n",
    "elif(choice==2):\n",
    "    ans = sub(num1,num2)\n",
    "    ans_available=1\n",
    "elif(choice==3):\n",
    "    ans = mul(num1,num2)\n",
    "    ans_available=1\n",
    "elif(choice==4):\n",
    "    ans = div(num1,num2)\n",
    "    ans_available=1\n",
    "else:\n",
    "    print(\"enter correct choice\")\n",
    "\n",
    "if(ans_available==1):\n",
    "    print(\"The answer is \",ans)"
   ]
  },
  {
   "cell_type": "code",
   "execution_count": null,
   "metadata": {},
   "outputs": [],
   "source": []
  }
 ],
 "metadata": {
  "kernelspec": {
   "display_name": "Python 3",
   "language": "python",
   "name": "python3"
  },
  "language_info": {
   "codemirror_mode": {
    "name": "ipython",
    "version": 3
   },
   "file_extension": ".py",
   "mimetype": "text/x-python",
   "name": "python",
   "nbconvert_exporter": "python",
   "pygments_lexer": "ipython3",
   "version": "3.7.3"
  }
 },
 "nbformat": 4,
 "nbformat_minor": 2
}
