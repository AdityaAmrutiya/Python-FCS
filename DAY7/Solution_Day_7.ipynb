{
  "nbformat": 4,
  "nbformat_minor": 0,
  "metadata": {
    "colab": {
      "name": "Solution_Day_7.ipynb",
      "provenance": [],
      "toc_visible": true
    },
    "kernelspec": {
      "name": "python3",
      "display_name": "Python 3"
    }
  },
  "cells": [
    {
      "cell_type": "markdown",
      "metadata": {
        "id": "syQPTPJjHWBK",
        "colab_type": "text"
      },
      "source": [
        "Question 1:\n",
        "For this challenge you need to develop a Python program to open a file in read only mode and try writing something in it and handle the subsequent errors using Exception Handling.\n"
      ]
    },
    {
      "cell_type": "code",
      "metadata": {
        "id": "GLq7WE7_HVMY",
        "colab_type": "code",
        "colab": {
          "base_uri": "https://localhost:8080/",
          "height": 34
        },
        "outputId": "44b38937-a7dc-4b0a-a00f-0779c9e42b06"
      },
      "source": [
        "file = open(\"abc.txt\",'r')\n",
        "\n",
        "try:\n",
        "  file.write(\"This is the write command\") \n",
        "except Exception as e:\n",
        "  print(\"Error - \",e)\n",
        "finally:\n",
        "  file.close()"
      ],
      "execution_count": 75,
      "outputs": [
        {
          "output_type": "stream",
          "text": [
            "Error -  not writable\n"
          ],
          "name": "stdout"
        }
      ]
    },
    {
      "cell_type": "markdown",
      "metadata": {
        "id": "LMG6ypJrIrNi",
        "colab_type": "text"
      },
      "source": [
        "Question 2 :Write a python Function for finding a given number prime or not and do Unit Testing on it using PyLint & Unit test Library."
      ]
    },
    {
      "cell_type": "code",
      "metadata": {
        "id": "Jso0uhJKmhpF",
        "colab_type": "code",
        "colab": {
          "base_uri": "https://localhost:8080/",
          "height": 34
        },
        "outputId": "39013e86-2070-4a69-8baf-72a77c574089"
      },
      "source": [
        "%%writefile primes.py\n",
        "''' Prime Assignment'''\n",
        "\n",
        "def is_prime(number):\n",
        "    \"\"\"Return True if *number* is prime.\"\"\"\n",
        "    for element in range(2, number):\n",
        "        if number % element == 0:\n",
        "            return False\n",
        "\n",
        "    return True\n",
        "\n",
        "def print_next_prime(number):\n",
        "    \"\"\"Print the closest prime number larger than *number*.\"\"\"\n",
        "    index = number\n",
        "    while True:\n",
        "        index += 1\n",
        "        if is_prime(index):\n",
        "            print(index)"
      ],
      "execution_count": 108,
      "outputs": [
        {
          "output_type": "stream",
          "text": [
            "Overwriting primes.py\n"
          ],
          "name": "stdout"
        }
      ]
    },
    {
      "cell_type": "code",
      "metadata": {
        "id": "9oy-Ap4Xor__",
        "colab_type": "code",
        "colab": {
          "base_uri": "https://localhost:8080/",
          "height": 118
        },
        "outputId": "058a3901-de78-48df-9283-bcbdca24728d"
      },
      "source": [
        "!pylint primes.py"
      ],
      "execution_count": 109,
      "outputs": [
        {
          "output_type": "stream",
          "text": [
            "************* Module primes\n",
            "primes.py:17:0: C0304: Final newline missing (missing-final-newline)\n",
            "\n",
            "------------------------------------------------------------------\n",
            "Your code has been rated at 9.09/10 (previous run: 9.09/10, +0.00)\n",
            "\n"
          ],
          "name": "stdout"
        }
      ]
    },
    {
      "cell_type": "code",
      "metadata": {
        "id": "2P85Up1OoR_b",
        "colab_type": "code",
        "colab": {
          "base_uri": "https://localhost:8080/",
          "height": 34
        },
        "outputId": "bcbe9aee-d3a9-483a-b43f-219eee88ab73"
      },
      "source": [
        "%%writefile test_primes.py\n",
        "import unittest\n",
        "from primes import is_prime\n",
        " \n",
        "class PrimesTestCase(unittest.TestCase):\n",
        "    \"\"\"Tests for `primes.py`.\"\"\"\n",
        " \n",
        "    def test_is_five_prime(self):\n",
        "        \"\"\"Is five successfully determined to be prime?\"\"\"\n",
        "        self.assertTrue(is_prime(5))\n",
        " \n",
        "if __name__ == '__main__':\n",
        "    unittest.main()"
      ],
      "execution_count": 110,
      "outputs": [
        {
          "output_type": "stream",
          "text": [
            "Overwriting test_primes.py\n"
          ],
          "name": "stdout"
        }
      ]
    },
    {
      "cell_type": "code",
      "metadata": {
        "id": "UDrSs6fvok9P",
        "colab_type": "code",
        "colab": {
          "base_uri": "https://localhost:8080/",
          "height": 101
        },
        "outputId": "d92f5ae9-0201-4b45-e90e-ab422abfd08f"
      },
      "source": [
        "!python test_primes.py"
      ],
      "execution_count": 111,
      "outputs": [
        {
          "output_type": "stream",
          "text": [
            ".\n",
            "----------------------------------------------------------------------\n",
            "Ran 1 test in 0.000s\n",
            "\n",
            "OK\n"
          ],
          "name": "stdout"
        }
      ]
    },
    {
      "cell_type": "code",
      "metadata": {
        "id": "Op6lNAIYo_k8",
        "colab_type": "code",
        "colab": {}
      },
      "source": [
        ""
      ],
      "execution_count": 0,
      "outputs": []
    }
  ]
}